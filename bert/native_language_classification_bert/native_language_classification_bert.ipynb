{
  "nbformat": 4,
  "nbformat_minor": 0,
  "metadata": {
    "colab": {
      "name": "native_language_classification_bert.ipynb",
      "provenance": [],
      "collapsed_sections": []
    },
    "kernelspec": {
      "name": "python3",
      "display_name": "Python 3"
    },
    "language_info": {
      "name": "python"
    },
    "accelerator": "GPU"
  },
  "cells": [
    {
      "cell_type": "code",
      "metadata": {
        "colab": {
          "base_uri": "https://localhost:8080/"
        },
        "id": "JZibxsbS0jku",
        "outputId": "39c12125-5b0d-45cb-831d-d6dd7252255a"
      },
      "source": [
        "!nvidia-smi"
      ],
      "execution_count": 55,
      "outputs": [
        {
          "output_type": "stream",
          "text": [
            "Sun Jul  4 05:44:36 2021       \n",
            "+-----------------------------------------------------------------------------+\n",
            "| NVIDIA-SMI 465.27       Driver Version: 460.32.03    CUDA Version: 11.2     |\n",
            "|-------------------------------+----------------------+----------------------+\n",
            "| GPU  Name        Persistence-M| Bus-Id        Disp.A | Volatile Uncorr. ECC |\n",
            "| Fan  Temp  Perf  Pwr:Usage/Cap|         Memory-Usage | GPU-Util  Compute M. |\n",
            "|                               |                      |               MIG M. |\n",
            "|===============================+======================+======================|\n",
            "|   0  Tesla P100-PCIE...  Off  | 00000000:00:04.0 Off |                    0 |\n",
            "| N/A   39C    P0    26W / 250W |      0MiB / 16280MiB |      0%      Default |\n",
            "|                               |                      |                  N/A |\n",
            "+-------------------------------+----------------------+----------------------+\n",
            "                                                                               \n",
            "+-----------------------------------------------------------------------------+\n",
            "| Processes:                                                                  |\n",
            "|  GPU   GI   CI        PID   Type   Process name                  GPU Memory |\n",
            "|        ID   ID                                                   Usage      |\n",
            "|=============================================================================|\n",
            "|  No running processes found                                                 |\n",
            "+-----------------------------------------------------------------------------+\n"
          ],
          "name": "stdout"
        }
      ]
    },
    {
      "cell_type": "code",
      "metadata": {
        "id": "m-yaVHFf4Gb5"
      },
      "source": [
        "path='/content/drive/MyDrive/ColabNotebooks/native_language_classification_bert/'\n",
        "!cd $path && pwd && rm bert_input_data/*.csv"
      ],
      "execution_count": null,
      "outputs": []
    },
    {
      "cell_type": "code",
      "metadata": {
        "id": "nhA17T6bz6yJ"
      },
      "source": [
        "  ORIGIN_DATA_DIR='/content/drive/MyDrive/ColabNotebooks/native_language_classification_bert/bert_input_data'\n",
        "  BERT_FEATURE_DIR='/content/drive/MyDrive/ColabNotebooks/native_language_classification_bert/bert_output_data/'\n",
        "  BERT_DATA_DIR='/content/drive/MyDrive/ColabNotebooks/native_language_classification_bert/BERT_DATA_DIR/'"
      ],
      "execution_count": null,
      "outputs": []
    },
    {
      "cell_type": "code",
      "metadata": {
        "id": "TuKsK_JY2pyp"
      },
      "source": [
        "path='/content/drive/MyDrive/ColabNotebooks/native_language_classification_bert/'\n",
        "import pandas as pd\n",
        "import os\n",
        "os.chdir(path)\n",
        "os.getcwd()"
      ],
      "execution_count": null,
      "outputs": []
    },
    {
      "cell_type": "code",
      "metadata": {
        "id": "Vt3pJMGg3Dg8"
      },
      "source": [
        "train_df = pd.read_csv('original_data/lang_id_train.csv')\n",
        "train_df = train_df.drop(['native_language'],axis=1)\n",
        "train_df.to_csv('bert_input_data/lang_id_train.csv',header=0,index=\"FALSE\")"
      ],
      "execution_count": null,
      "outputs": []
    },
    {
      "cell_type": "code",
      "metadata": {
        "id": "fswZtjoJoZrv"
      },
      "source": [
        "for i in [\"lang_id_eval\",\"lang_id_test\"]:\n",
        "  df = None\n",
        "  df = pd.read_csv('original_data/{}.csv'.format(i))\n",
        "  df = df.drop(['native_language'],axis=1)\n",
        "  df.to_csv('bert_input_data/{}.csv'.format(i), header=0,index=\"FALSE\")"
      ],
      "execution_count": 16,
      "outputs": []
    },
    {
      "cell_type": "code",
      "metadata": {
        "id": "Y0T9xid_oazP"
      },
      "source": [
        "train_df = pd.read_csv('original_data/lang_id_train.csv')\n",
        "train_df = train_df.drop(['native_language'],axis=1)\n",
        "train_df.to_csv('bert_input_data/lang_id_train.csv',header=0,index=\"FALSE\")"
      ],
      "execution_count": null,
      "outputs": []
    },
    {
      "cell_type": "code",
      "metadata": {
        "id": "30Z6o39_5bCE"
      },
      "source": [
        "train_df = pd.read_csv('bert_input_data/lang_id_train.csv')\n",
        "train = pd.read_csv('original_data/lang_id_train.csv')"
      ],
      "execution_count": 36,
      "outputs": []
    },
    {
      "cell_type": "code",
      "metadata": {
        "id": "apGdpLAEGEp8"
      },
      "source": [
        "eval = pd.read_csv('original_data/lang_id_eval.csv')"
      ],
      "execution_count": 65,
      "outputs": []
    },
    {
      "cell_type": "code",
      "metadata": {
        "colab": {
          "base_uri": "https://localhost:8080/",
          "height": 204
        },
        "id": "y9evrMAOGWYT",
        "outputId": "0c0ecf68-630c-4fb6-9985-8ec06fdd077a"
      },
      "source": [
        "eval.head()"
      ],
      "execution_count": 67,
      "outputs": [
        {
          "output_type": "execute_result",
          "data": {
            "text/html": [
              "<div>\n",
              "<style scoped>\n",
              "    .dataframe tbody tr th:only-of-type {\n",
              "        vertical-align: middle;\n",
              "    }\n",
              "\n",
              "    .dataframe tbody tr th {\n",
              "        vertical-align: top;\n",
              "    }\n",
              "\n",
              "    .dataframe thead th {\n",
              "        text-align: right;\n",
              "    }\n",
              "</style>\n",
              "<table border=\"1\" class=\"dataframe\">\n",
              "  <thead>\n",
              "    <tr style=\"text-align: right;\">\n",
              "      <th></th>\n",
              "      <th>native_language</th>\n",
              "      <th>text</th>\n",
              "    </tr>\n",
              "  </thead>\n",
              "  <tbody>\n",
              "    <tr>\n",
              "      <th>0</th>\n",
              "      <td>Japanese</td>\n",
              "      <td>What you can do for your health and I like it ...</td>\n",
              "    </tr>\n",
              "    <tr>\n",
              "      <th>1</th>\n",
              "      <td>Japanese</td>\n",
              "      <td>How to use `peanut butter ' Hello ! I have a q...</td>\n",
              "    </tr>\n",
              "    <tr>\n",
              "      <th>2</th>\n",
              "      <td>Japanese</td>\n",
              "      <td>earthquake I went to listen to a lecture meeti...</td>\n",
              "    </tr>\n",
              "    <tr>\n",
              "      <th>3</th>\n",
              "      <td>Japanese</td>\n",
              "      <td>The Questions There are many abbrebiations and...</td>\n",
              "    </tr>\n",
              "    <tr>\n",
              "      <th>4</th>\n",
              "      <td>Japanese</td>\n",
              "      <td>Long time no see!!! I\"m very tied! Many part t...</td>\n",
              "    </tr>\n",
              "  </tbody>\n",
              "</table>\n",
              "</div>"
            ],
            "text/plain": [
              "  native_language                                               text\n",
              "0        Japanese  What you can do for your health and I like it ...\n",
              "1        Japanese  How to use `peanut butter ' Hello ! I have a q...\n",
              "2        Japanese  earthquake I went to listen to a lecture meeti...\n",
              "3        Japanese  The Questions There are many abbrebiations and...\n",
              "4        Japanese  Long time no see!!! I\"m very tied! Many part t..."
            ]
          },
          "metadata": {
            "tags": []
          },
          "execution_count": 67
        }
      ]
    },
    {
      "cell_type": "code",
      "metadata": {
        "id": "hU0tDpB7GKXZ"
      },
      "source": [
        "test = pd.read_csv('original_data/lang_id_test.csv')"
      ],
      "execution_count": 66,
      "outputs": []
    },
    {
      "cell_type": "code",
      "metadata": {
        "colab": {
          "base_uri": "https://localhost:8080/",
          "height": 204
        },
        "id": "d7YH6gJqGZLy",
        "outputId": "96fe4ef4-919e-4a14-f95c-ca28ece73358"
      },
      "source": [
        "test.head()"
      ],
      "execution_count": 68,
      "outputs": [
        {
          "output_type": "execute_result",
          "data": {
            "text/html": [
              "<div>\n",
              "<style scoped>\n",
              "    .dataframe tbody tr th:only-of-type {\n",
              "        vertical-align: middle;\n",
              "    }\n",
              "\n",
              "    .dataframe tbody tr th {\n",
              "        vertical-align: top;\n",
              "    }\n",
              "\n",
              "    .dataframe thead th {\n",
              "        text-align: right;\n",
              "    }\n",
              "</style>\n",
              "<table border=\"1\" class=\"dataframe\">\n",
              "  <thead>\n",
              "    <tr style=\"text-align: right;\">\n",
              "      <th></th>\n",
              "      <th>native_language</th>\n",
              "      <th>text</th>\n",
              "    </tr>\n",
              "  </thead>\n",
              "  <tbody>\n",
              "    <tr>\n",
              "      <th>0</th>\n",
              "      <td>Japanese</td>\n",
              "      <td>got an official job offer Today, I decided to ...</td>\n",
              "    </tr>\n",
              "    <tr>\n",
              "      <th>1</th>\n",
              "      <td>Japanese</td>\n",
              "      <td>I am bum. I am bum.</td>\n",
              "    </tr>\n",
              "    <tr>\n",
              "      <th>2</th>\n",
              "      <td>Japanese</td>\n",
              "      <td>exam... I will have to take the exam tomorrow....</td>\n",
              "    </tr>\n",
              "    <tr>\n",
              "      <th>3</th>\n",
              "      <td>Japanese</td>\n",
              "      <td>Self-introduction and my situation I work in f...</td>\n",
              "    </tr>\n",
              "    <tr>\n",
              "      <th>4</th>\n",
              "      <td>Japanese</td>\n",
              "      <td>Tough Schedule Hi there. So tough schedule las...</td>\n",
              "    </tr>\n",
              "  </tbody>\n",
              "</table>\n",
              "</div>"
            ],
            "text/plain": [
              "  native_language                                               text\n",
              "0        Japanese  got an official job offer Today, I decided to ...\n",
              "1        Japanese                                I am bum. I am bum.\n",
              "2        Japanese  exam... I will have to take the exam tomorrow....\n",
              "3        Japanese  Self-introduction and my situation I work in f...\n",
              "4        Japanese  Tough Schedule Hi there. So tough schedule las..."
            ]
          },
          "metadata": {
            "tags": []
          },
          "execution_count": 68
        }
      ]
    },
    {
      "cell_type": "code",
      "metadata": {
        "colab": {
          "base_uri": "https://localhost:8080/",
          "height": 204
        },
        "id": "nNhAixEB5dTU",
        "outputId": "3cf9cc5c-908d-4109-a619-1f24ecbf49f1"
      },
      "source": [
        "train.head()"
      ],
      "execution_count": 37,
      "outputs": [
        {
          "output_type": "execute_result",
          "data": {
            "text/html": [
              "<div>\n",
              "<style scoped>\n",
              "    .dataframe tbody tr th:only-of-type {\n",
              "        vertical-align: middle;\n",
              "    }\n",
              "\n",
              "    .dataframe tbody tr th {\n",
              "        vertical-align: top;\n",
              "    }\n",
              "\n",
              "    .dataframe thead th {\n",
              "        text-align: right;\n",
              "    }\n",
              "</style>\n",
              "<table border=\"1\" class=\"dataframe\">\n",
              "  <thead>\n",
              "    <tr style=\"text-align: right;\">\n",
              "      <th></th>\n",
              "      <th>native_language</th>\n",
              "      <th>text</th>\n",
              "    </tr>\n",
              "  </thead>\n",
              "  <tbody>\n",
              "    <tr>\n",
              "      <th>0</th>\n",
              "      <td>Japanese</td>\n",
              "      <td>who, whom, whose I have often thinking that, I...</td>\n",
              "    </tr>\n",
              "    <tr>\n",
              "      <th>1</th>\n",
              "      <td>Japanese</td>\n",
              "      <td>books I love reading. It's been one of my hobb...</td>\n",
              "    </tr>\n",
              "    <tr>\n",
              "      <th>2</th>\n",
              "      <td>Japanese</td>\n",
              "      <td>change job I want to change job. The company t...</td>\n",
              "    </tr>\n",
              "    <tr>\n",
              "      <th>3</th>\n",
              "      <td>Japanese</td>\n",
              "      <td>the origin of Japanese I like to learn about a...</td>\n",
              "    </tr>\n",
              "    <tr>\n",
              "      <th>4</th>\n",
              "      <td>Japanese</td>\n",
              "      <td>Marunouchi Today, I am going go to Marunouchi,...</td>\n",
              "    </tr>\n",
              "  </tbody>\n",
              "</table>\n",
              "</div>"
            ],
            "text/plain": [
              "  native_language                                               text\n",
              "0        Japanese  who, whom, whose I have often thinking that, I...\n",
              "1        Japanese  books I love reading. It's been one of my hobb...\n",
              "2        Japanese  change job I want to change job. The company t...\n",
              "3        Japanese  the origin of Japanese I like to learn about a...\n",
              "4        Japanese  Marunouchi Today, I am going go to Marunouchi,..."
            ]
          },
          "metadata": {
            "tags": []
          },
          "execution_count": 37
        }
      ]
    },
    {
      "cell_type": "code",
      "metadata": {
        "colab": {
          "base_uri": "https://localhost:8080/",
          "height": 204
        },
        "id": "HI_9sXG55e_6",
        "outputId": "78964ba8-0894-4d74-c924-cc3c1ec222c9"
      },
      "source": [
        "train_df.head()"
      ],
      "execution_count": 38,
      "outputs": [
        {
          "output_type": "execute_result",
          "data": {
            "text/html": [
              "<div>\n",
              "<style scoped>\n",
              "    .dataframe tbody tr th:only-of-type {\n",
              "        vertical-align: middle;\n",
              "    }\n",
              "\n",
              "    .dataframe tbody tr th {\n",
              "        vertical-align: top;\n",
              "    }\n",
              "\n",
              "    .dataframe thead th {\n",
              "        text-align: right;\n",
              "    }\n",
              "</style>\n",
              "<table border=\"1\" class=\"dataframe\">\n",
              "  <thead>\n",
              "    <tr style=\"text-align: right;\">\n",
              "      <th></th>\n",
              "      <th>0</th>\n",
              "      <th>who, whom, whose I have often thinking that, I sometimes don't come to understand how to use \"who\", \"whose\", \"whom\". What does the difference these words?</th>\n",
              "    </tr>\n",
              "  </thead>\n",
              "  <tbody>\n",
              "    <tr>\n",
              "      <th>0</th>\n",
              "      <td>1</td>\n",
              "      <td>books I love reading. It's been one of my hobb...</td>\n",
              "    </tr>\n",
              "    <tr>\n",
              "      <th>1</th>\n",
              "      <td>2</td>\n",
              "      <td>change job I want to change job. The company t...</td>\n",
              "    </tr>\n",
              "    <tr>\n",
              "      <th>2</th>\n",
              "      <td>3</td>\n",
              "      <td>the origin of Japanese I like to learn about a...</td>\n",
              "    </tr>\n",
              "    <tr>\n",
              "      <th>3</th>\n",
              "      <td>4</td>\n",
              "      <td>Marunouchi Today, I am going go to Marunouchi,...</td>\n",
              "    </tr>\n",
              "    <tr>\n",
              "      <th>4</th>\n",
              "      <td>5</td>\n",
              "      <td>My pleasure My pleasure. I wrote diaries twice...</td>\n",
              "    </tr>\n",
              "  </tbody>\n",
              "</table>\n",
              "</div>"
            ],
            "text/plain": [
              "   0 who, whom, whose I have often thinking that, I sometimes don't come to understand how to use \"who\", \"whose\", \"whom\". What does the difference these words?\n",
              "0  1  books I love reading. It's been one of my hobb...                                                                                                        \n",
              "1  2  change job I want to change job. The company t...                                                                                                        \n",
              "2  3  the origin of Japanese I like to learn about a...                                                                                                        \n",
              "3  4  Marunouchi Today, I am going go to Marunouchi,...                                                                                                        \n",
              "4  5  My pleasure My pleasure. I wrote diaries twice...                                                                                                        "
            ]
          },
          "metadata": {
            "tags": []
          },
          "execution_count": 38
        }
      ]
    },
    {
      "cell_type": "code",
      "metadata": {
        "id": "2u7gE3DD6Dhv"
      },
      "source": [
        "!git clone https://github.com/google-research/bert.git"
      ],
      "execution_count": null,
      "outputs": []
    },
    {
      "cell_type": "code",
      "metadata": {
        "id": "wVJeZX9t6JxD"
      },
      "source": [
        "!pwd"
      ],
      "execution_count": null,
      "outputs": []
    },
    {
      "cell_type": "code",
      "metadata": {
        "id": "TGVhzv2a-ELd"
      },
      "source": [
        "!pip list installed|grep -i tensorflow\n",
        "pkgs=!pip list installed|grep -i tensorflow|awk '{print $1}'\n",
        "!echo $pkgs"
      ],
      "execution_count": null,
      "outputs": []
    },
    {
      "cell_type": "code",
      "metadata": {
        "id": "ieAgT99GDPEm"
      },
      "source": [
        "for p in pkgs:\n",
        "  !pip uninstall $p --yes"
      ],
      "execution_count": null,
      "outputs": []
    },
    {
      "cell_type": "code",
      "metadata": {
        "id": "iRMtUvxxcfBz"
      },
      "source": [
        "pip install tensorflow-gpu==1.14.0"
      ],
      "execution_count": null,
      "outputs": []
    },
    {
      "cell_type": "code",
      "metadata": {
        "id": "mZ80dvIp97yZ"
      },
      "source": [
        "import tensorflow as tf\n",
        "tf.__version__"
      ],
      "execution_count": null,
      "outputs": []
    },
    {
      "cell_type": "code",
      "metadata": {
        "id": "nz7PW26R82LC"
      },
      "source": [
        "!python3 bert/extract_features.py --help"
      ],
      "execution_count": null,
      "outputs": []
    },
    {
      "cell_type": "code",
      "metadata": {
        "id": "6UTeeT8ee6uW"
      },
      "source": [
        "!wget https://storage.googleapis.com/bert_models/2018_10_18/uncased_L-12_H-768_A-12.zip"
      ],
      "execution_count": null,
      "outputs": []
    },
    {
      "cell_type": "code",
      "metadata": {
        "id": "RZtI01jMfhtM"
      },
      "source": [
        "!unzip uncased_L-12_H-768_A-12.zip"
      ],
      "execution_count": null,
      "outputs": []
    },
    {
      "cell_type": "code",
      "metadata": {
        "id": "gSJBSDV568wk"
      },
      "source": [
        "!python bert/extract_features.py --vocab_file uncased_L-12_H-768_A-12/vocab.txt --bert_config_file uncased_L-12_H-768_A-12/bert_config.json --init_checkpoint uncased_L-12_H-768_A-12/bert_model.ckpt --max_seq_length 128 --batch_size 8 --layers -1 --input_file bert_input_data/lang_id_train.csv --output_file bert_output_data/lang_id_train.jsonlines"
      ],
      "execution_count": null,
      "outputs": []
    },
    {
      "cell_type": "code",
      "metadata": {
        "id": "z7vla_hlnrMf"
      },
      "source": [
        "!for i in lang_id_eval lang_id_test; do python bert/extract_features.py --vocab_file uncased_L-12_H-768_A-12/vocab.txt --bert_config_file uncased_L-12_H-768_A-12/bert_config.json --init_checkpoint uncased_L-12_H-768_A-12/bert_model.ckpt --max_seq_length 128 --batch_size 8 --layers -1 --input_file bert_input_data/$i.csv --output_file bert_output_data/$i.jsonlines;done"
      ],
      "execution_count": null,
      "outputs": []
    },
    {
      "cell_type": "code",
      "metadata": {
        "id": "orfRPMNBsv6K"
      },
      "source": [
        "!cat /etc/lsb-release\n",
        "!apt-get install jq"
      ],
      "execution_count": null,
      "outputs": []
    },
    {
      "cell_type": "code",
      "metadata": {
        "id": "i36IccR5rn9G"
      },
      "source": [
        "!head -1 bert_output_data/lang_id_train.jsonlines|jq . "
      ],
      "execution_count": null,
      "outputs": []
    },
    {
      "cell_type": "code",
      "metadata": {
        "id": "i7-XW6EvDzJn"
      },
      "source": [
        "def get_vectors(file:str):\n",
        "  bert_vectors=[]\n",
        "  with open(file,'rt') as infile:\n",
        "    for line in infile:\n",
        "      bertdata = json.loads(line)\n",
        "      for t in bertdata['features']:\n",
        "        # only [CLS] token embedding for classification taks\n",
        "        if t['token'] == '[CLS]':\n",
        "          # only final layers representation\n",
        "          vec = t['layers'][0]['values']\n",
        "          bert_vectors.append(vec)\n",
        "          break\n",
        "  \n",
        "  return bert_vectors"
      ],
      "execution_count": 58,
      "outputs": []
    },
    {
      "cell_type": "code",
      "metadata": {
        "id": "fctzRhsyE0BL"
      },
      "source": [
        "bert_vectors_train = get_vectors('bert_output_data/lang_id_train.jsonlines')"
      ],
      "execution_count": null,
      "outputs": []
    },
    {
      "cell_type": "code",
      "metadata": {
        "id": "37OU68Chtkka"
      },
      "source": [
        "import json\n",
        "bert_vectors_eval = get_vectors('bert_output_data/lang_id_eval.jsonlines')\n",
        "bert_vectors_test = get_vectors('bert_output_data/lang_id_test.jsonlines')"
      ],
      "execution_count": 59,
      "outputs": []
    },
    {
      "cell_type": "code",
      "metadata": {
        "colab": {
          "base_uri": "https://localhost:8080/"
        },
        "id": "mMTC-r0NvgFw",
        "outputId": "4bda5b23-a55d-46e7-b40d-5566e7bf05af"
      },
      "source": [
        "print(len(bert_vectors))\n",
        "len(bert_vectors[0])"
      ],
      "execution_count": 35,
      "outputs": [
        {
          "output_type": "stream",
          "text": [
            "6000\n"
          ],
          "name": "stdout"
        },
        {
          "output_type": "execute_result",
          "data": {
            "text/plain": [
              "768"
            ]
          },
          "metadata": {
            "tags": []
          },
          "execution_count": 35
        }
      ]
    },
    {
      "cell_type": "code",
      "metadata": {
        "colab": {
          "base_uri": "https://localhost:8080/"
        },
        "id": "aWv4A_nGFAOI",
        "outputId": "a56f8c6e-72e0-4110-f5d4-0bcd6a7afd9e"
      },
      "source": [
        "print(len(bert_vectors_eval))\n",
        "len(bert_vectors_eval[0])"
      ],
      "execution_count": 60,
      "outputs": [
        {
          "output_type": "stream",
          "text": [
            "2000\n"
          ],
          "name": "stdout"
        },
        {
          "output_type": "execute_result",
          "data": {
            "text/plain": [
              "768"
            ]
          },
          "metadata": {
            "tags": []
          },
          "execution_count": 60
        }
      ]
    },
    {
      "cell_type": "code",
      "metadata": {
        "colab": {
          "base_uri": "https://localhost:8080/"
        },
        "id": "o_uGDQTxFG9F",
        "outputId": "33ddf15c-bca9-4dc0-e026-7f48954f7089"
      },
      "source": [
        "print(len(bert_vectors_test))\n",
        "len(bert_vectors_test[0])"
      ],
      "execution_count": 61,
      "outputs": [
        {
          "output_type": "stream",
          "text": [
            "2000\n"
          ],
          "name": "stdout"
        },
        {
          "output_type": "execute_result",
          "data": {
            "text/plain": [
              "768"
            ]
          },
          "metadata": {
            "tags": []
          },
          "execution_count": 61
        }
      ]
    },
    {
      "cell_type": "code",
      "metadata": {
        "id": "7ze530kBv0ic"
      },
      "source": [
        "import numpy as np\n",
        "x_train=np.array(bert_vectors)\n",
        "y_train=train['native_language'].values"
      ],
      "execution_count": 40,
      "outputs": []
    },
    {
      "cell_type": "code",
      "metadata": {
        "id": "btNV0tAjFUlY"
      },
      "source": [
        "x_test=np.array(bert_vectors_test)"
      ],
      "execution_count": 62,
      "outputs": []
    },
    {
      "cell_type": "code",
      "metadata": {
        "colab": {
          "base_uri": "https://localhost:8080/"
        },
        "id": "bOji1tlIwqFp",
        "outputId": "fd28c6d1-d784-448e-ad09-a1fc3cbdef0d"
      },
      "source": [
        "x_train.shape"
      ],
      "execution_count": 52,
      "outputs": [
        {
          "output_type": "execute_result",
          "data": {
            "text/plain": [
              "(6000, 768)"
            ]
          },
          "metadata": {
            "tags": []
          },
          "execution_count": 52
        }
      ]
    },
    {
      "cell_type": "code",
      "metadata": {
        "colab": {
          "base_uri": "https://localhost:8080/"
        },
        "id": "4_s7XW-qwuqW",
        "outputId": "546e2a29-62e4-4d5d-dc88-7825939ffdf9"
      },
      "source": [
        "y_train.shape"
      ],
      "execution_count": 50,
      "outputs": [
        {
          "output_type": "execute_result",
          "data": {
            "text/plain": [
              "(6000,)"
            ]
          },
          "metadata": {
            "tags": []
          },
          "execution_count": 50
        }
      ]
    },
    {
      "cell_type": "code",
      "metadata": {
        "colab": {
          "base_uri": "https://localhost:8080/"
        },
        "id": "07VsoMh1w1IH",
        "outputId": "6c0a1668-79bd-4d70-cf3b-b7bc3d6acb5a"
      },
      "source": [
        "y_train"
      ],
      "execution_count": 51,
      "outputs": [
        {
          "output_type": "execute_result",
          "data": {
            "text/plain": [
              "array(['Japanese', 'Japanese', 'Japanese', ..., 'Arabic', 'Arabic',\n",
              "       'Arabic'], dtype=object)"
            ]
          },
          "metadata": {
            "tags": []
          },
          "execution_count": 51
        }
      ]
    },
    {
      "cell_type": "code",
      "metadata": {
        "id": "tQJImmT4xKQR"
      },
      "source": [
        "from sklearn.linear_model import LogisticRegression\n",
        "lr_model = LogisticRegression(penalty='l2',C=1.0, max_iter=2000)\n",
        "model_fit = lr_model.fit(x_train,y_train)"
      ],
      "execution_count": 56,
      "outputs": []
    },
    {
      "cell_type": "code",
      "metadata": {
        "id": "pztbx1FPDdO_"
      },
      "source": [
        "predict_y=lr_model.predict(x_test)"
      ],
      "execution_count": 63,
      "outputs": []
    },
    {
      "cell_type": "code",
      "metadata": {
        "colab": {
          "base_uri": "https://localhost:8080/"
        },
        "id": "SsE0WpKBFuu9",
        "outputId": "b86adcf3-af93-4ba0-e6f3-2f55dcfe4b2f"
      },
      "source": [
        "predict_y"
      ],
      "execution_count": 64,
      "outputs": [
        {
          "output_type": "execute_result",
          "data": {
            "text/plain": [
              "array(['Japanese', 'Korean', 'Japanese', ..., 'Mandarin', 'Mandarin',\n",
              "       'Russian'], dtype=object)"
            ]
          },
          "metadata": {
            "tags": []
          },
          "execution_count": 64
        }
      ]
    },
    {
      "cell_type": "code",
      "metadata": {
        "colab": {
          "base_uri": "https://localhost:8080/"
        },
        "id": "1ZEsxFE6Giwu",
        "outputId": "5f148411-b69c-4a29-9c4e-586b50d4ad40"
      },
      "source": [
        "y_test=test['native_language'].values\n",
        "y_test"
      ],
      "execution_count": 69,
      "outputs": [
        {
          "output_type": "execute_result",
          "data": {
            "text/plain": [
              "array(['Japanese', 'Japanese', 'Japanese', ..., 'Arabic', 'Arabic',\n",
              "       'Arabic'], dtype=object)"
            ]
          },
          "metadata": {
            "tags": []
          },
          "execution_count": 69
        }
      ]
    },
    {
      "cell_type": "code",
      "metadata": {
        "colab": {
          "base_uri": "https://localhost:8080/"
        },
        "id": "wLTMivqjGuY0",
        "outputId": "f46fc829-e322-4ecb-f738-362106163e7a"
      },
      "source": [
        "from sklearn.metrics import accuracy_score\n",
        "accuracy_score(y_test,predic_y)"
      ],
      "execution_count": 73,
      "outputs": [
        {
          "output_type": "execute_result",
          "data": {
            "text/plain": [
              "0.3535"
            ]
          },
          "metadata": {
            "tags": []
          },
          "execution_count": 73
        }
      ]
    },
    {
      "cell_type": "code",
      "metadata": {
        "colab": {
          "base_uri": "https://localhost:8080/"
        },
        "id": "LMaDh0SgHfV_",
        "outputId": "bbb3af33-878b-41f9-f530-40da9a9a1533"
      },
      "source": [
        "from sklearn.metrics import classification_report\n",
        "print(classification_report(y_test,predict_y))"
      ],
      "execution_count": 75,
      "outputs": [
        {
          "output_type": "stream",
          "text": [
            "              precision    recall  f1-score   support\n",
            "\n",
            "      Arabic       0.37      0.13      0.19       200\n",
            "   Cantonese       0.29      0.17      0.22       200\n",
            "    Japanese       0.45      0.81      0.58       200\n",
            "      Korean       0.24      0.34      0.28       200\n",
            "    Mandarin       0.10      0.12      0.11       200\n",
            "      Polish       0.53      0.31      0.39       200\n",
            "     Russian       0.57      0.56      0.56       200\n",
            "     Spanish       0.53      0.34      0.42       200\n",
            "        Thai       0.68      0.56      0.62       200\n",
            "  Vietnamese       0.12      0.20      0.15       200\n",
            "\n",
            "    accuracy                           0.35      2000\n",
            "   macro avg       0.39      0.35      0.35      2000\n",
            "weighted avg       0.39      0.35      0.35      2000\n",
            "\n"
          ],
          "name": "stdout"
        }
      ]
    },
    {
      "cell_type": "code",
      "metadata": {
        "colab": {
          "base_uri": "https://localhost:8080/"
        },
        "id": "ZVy0I5PSIiFI",
        "outputId": "710150c2-96a0-467b-ae09-deb22737ce96"
      },
      "source": [
        "from sklearn import metrics\n",
        "cm = metrics.confusion_matrix(y_test,predict_y)\n",
        "print(cm)"
      ],
      "execution_count": 76,
      "outputs": [
        {
          "output_type": "stream",
          "text": [
            "[[ 26   1   2   4 126   6   6   4   3  22]\n",
            " [  3  34   3  14  31   2   6   2   9  96]\n",
            " [  3   4 162  12   6   1   3   1   1   7]\n",
            " [  1   6  90  68   9   4   5   5   8   4]\n",
            " [ 11  41  27  58  24   7  11   6   6   9]\n",
            " [  4   1  12   6  17  62  27   9   3  59]\n",
            " [  2   3   7  39   3  14 111  16   1   4]\n",
            " [  8   1  10   7   9   7  13  69   4  72]\n",
            " [  5   8   9  33   6   2   2   4 112  19]\n",
            " [  8  17  35  39   8  12  10  15  17  39]]\n"
          ],
          "name": "stdout"
        }
      ]
    }
  ]
}